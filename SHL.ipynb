{
 "cells": [
  {
   "cell_type": "code",
   "execution_count": 1,
   "id": "113011ec-2894-40b7-8979-947f997ed35a",
   "metadata": {},
   "outputs": [],
   "source": [
    "import json\n",
    "import time\n",
    "from bs4 import BeautifulSoup\n",
    "from selenium import webdriver\n",
    "from selenium.webdriver.chrome.service import Service\n",
    "from webdriver_manager.chrome import ChromeDriverManager\n",
    "import pandas as pd\n",
    "import csv"
   ]
  },
  {
   "cell_type": "code",
   "execution_count": 2,
   "id": "0d15c3f3-a0ee-4780-9c6a-85c47a4023a1",
   "metadata": {},
   "outputs": [],
   "source": [
    "options = webdriver.ChromeOptions()\n",
    "options.add_argument(\"--headless\") \n",
    "options.add_argument(\"--no-sandbox\")\n",
    "options.add_argument(\"--disable-dev-shm-usage\")\n",
    "\n",
    "driver = webdriver.Chrome(service=Service(ChromeDriverManager().install()), options=options)\n"
   ]
  },
  {
   "cell_type": "code",
   "execution_count": 3,
   "id": "b9b4675b-51aa-4300-93bf-34ace597815d",
   "metadata": {},
   "outputs": [],
   "source": [
    "catalog_url = \"https://www.shl.com/solutions/products/product-catalog/\"\n",
    "driver.get(catalog_url)\n",
    "time.sleep(5)"
   ]
  },
  {
   "cell_type": "code",
   "execution_count": 4,
   "id": "89141132-54f9-4145-a450-d6f935300357",
   "metadata": {},
   "outputs": [],
   "source": [
    "soup = BeautifulSoup(driver.page_source, 'html.parser')\n",
    "driver.quit()\n"
   ]
  },
  {
   "cell_type": "code",
   "execution_count": 13,
   "id": "6f41859a-1e83-47c6-9743-0b72fa8b8677",
   "metadata": {},
   "outputs": [
    {
     "name": "stdout",
     "output_type": "stream",
     "text": [
      "Error parsing a card: 'NoneType' object has no attribute 'get_text'\n",
      "Error parsing a card: 'NoneType' object has no attribute 'get_text'\n",
      "Error parsing a card: 'NoneType' object has no attribute 'get_text'\n",
      "Error parsing a card: 'NoneType' object has no attribute 'get_text'\n",
      "Error parsing a card: 'NoneType' object has no attribute 'get_text'\n",
      "Error parsing a card: 'NoneType' object has no attribute 'get_text'\n",
      "Error parsing a card: 'NoneType' object has no attribute 'get_text'\n",
      "Error parsing a card: 'NoneType' object has no attribute 'get_text'\n",
      "Error parsing a card: 'NoneType' object has no attribute 'get_text'\n",
      "Error parsing a card: name 'By' is not defined\n",
      "Error parsing a card: 'NoneType' object has no attribute 'get_text'\n",
      "Error parsing a card: 'NoneType' object has no attribute 'get_text'\n",
      "Error parsing a card: 'NoneType' object has no attribute 'get_text'\n"
     ]
    }
   ],
   "source": [
    "cards = soup.find_all(\"div\", class_=\"container\")\n",
    "\n",
    "results = []\n",
    "\n",
    "for card in cards:\n",
    "    try:\n",
    "        name = card.find(\"h1\").get_text(strip=True)\n",
    "        link = card.find_element(By.TAG_NAME, \"a\").get_attribute(\"href\")\n",
    "        assessments.append({\"Name\": name, \"Url\": link})\n",
    "        result = {\n",
    "            \"name\": name,\n",
    "            \"url\":link,\n",
    "            \"remote_testing\": \"Yes\", #first taken a sample object wheather the data is retrive or not for checking name and url\n",
    "            \"adaptive\": \"Yes\",        #unfortuantely scraping the data its won't hpeend so takne the data as manually i tried my best                     # result i not got \n",
    "            \"duration\": \"30 mins\",    \n",
    "            \"type\": \"Cognitive\"       \n",
    "        }\n",
    "        results.append(result)\n",
    "    except Exception as e:\n",
    "        print(f\"Error parsing a card: {e}\")\n",
    "        continue\n",
    "        "
   ]
  },
  {
   "cell_type": "code",
   "execution_count": 15,
   "id": "5bb5b6af-67e3-424c-8f08-5cf3d6d3238c",
   "metadata": {},
   "outputs": [
    {
     "name": "stdout",
     "output_type": "stream",
     "text": [
      "Data saved to shl_assessments.csv\n"
     ]
    }
   ],
   "source": [
    "with open(\"shl_assessments.csv\", \"w\", newline='', encoding=\"utf-8\") as file:\n",
    "    writer = csv.writer(file)\n",
    "    writer.writerow([\"name\", \"url\"])\n",
    "    for item in results:\n",
    "        writer.writerow([item[\"name\"], item[\"url\"]])\n",
    "\n",
    "\n",
    "driver.quit()\n",
    "print(\"Data saved to shl_assessments.csv\")\n"
   ]
  },
  {
   "cell_type": "code",
   "execution_count": 12,
   "id": "03be3efa-bc93-4bd7-86ae-cc349a3a007d",
   "metadata": {},
   "outputs": [
    {
     "data": {
      "text/plain": [
       "[{'name': 'Find assessments that best meet your needs.',\n",
       "  'remote_testing': 'Yes',\n",
       "  'adaptive': 'Yes',\n",
       "  'duration': '30 mins',\n",
       "  'type': 'Cognitive'}]"
      ]
     },
     "execution_count": 12,
     "metadata": {},
     "output_type": "execute_result"
    }
   ],
   "source": [
    "results"
   ]
  },
  {
   "cell_type": "code",
   "execution_count": null,
   "id": "f9df673e-9eec-40fb-be6a-22fdb4fa4742",
   "metadata": {},
   "outputs": [],
   "source": []
  },
  {
   "cell_type": "code",
   "execution_count": null,
   "id": "4cff8701-80e2-49f7-8425-ba3436a1dbe8",
   "metadata": {},
   "outputs": [],
   "source": []
  },
  {
   "cell_type": "code",
   "execution_count": null,
   "id": "de2fa938-1798-47e9-8f54-3cc3ea6b4651",
   "metadata": {},
   "outputs": [],
   "source": []
  }
 ],
 "metadata": {
  "kernelspec": {
   "display_name": "base",
   "language": "python",
   "name": "python3"
  },
  "language_info": {
   "codemirror_mode": {
    "name": "ipython",
    "version": 3
   },
   "file_extension": ".py",
   "mimetype": "text/x-python",
   "name": "python",
   "nbconvert_exporter": "python",
   "pygments_lexer": "ipython3",
   "version": "3.12.4"
  }
 },
 "nbformat": 4,
 "nbformat_minor": 5
}
